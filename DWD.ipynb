{
 "cells": [
  {
   "cell_type": "markdown",
   "id": "c30cbf72",
   "metadata": {},
   "source": [
    "# Deutscher Wetterdienst"
   ]
  },
  {
   "cell_type": "code",
   "execution_count": null,
   "id": "e2f02eee",
   "metadata": {},
   "outputs": [],
   "source": [
    "%reset -sf\n",
    "import pandas as pd\n",
    "\n",
    "url = \"https://opendata.dwd.de/\"\n",
    "path = 'climate_environment/CDC/observations_germany/climate/daily/kl/'\n",
    "recent_path = path + 'recent/'\n",
    "historical_path = path + 'historical/'\n",
    "filename = 'KL_Tageswerte_Beschreibung_Stationen.txt' \n",
    "ws = pd.read_csv(url + recent_path + filename, sep=\"\\t\", header=0, skiprows = 0, encoding = \"ISO-8859-1\").dropna()\n",
    "ws.drop(0, inplace=True)\n",
    "\n",
    "# save original column names\n",
    "colnames = ws.columns[0].split(' ')\n",
    "\n",
    "# rename column for instance to 'dummy'\n",
    "ws.columns = ['dummy']\n",
    "\n",
    "# split string up to 6th column\n",
    "ws = ws['dummy'].str.split('\\s+', n=6, expand=True)\n",
    "\n",
    "# convert 1:6 to numeric\n",
    "for col in  ws.iloc[:,1:6]:\n",
    "    ws[col] = pd.to_numeric(ws[col], errors='coerce') \n",
    "    \n",
    "# concat columns back to a type consistent dataframe\n",
    "wst = pd.concat([ws.iloc[:,0:6], ws[6].str.slice(0,41), ws[6].str.slice(41,)], axis=1)  \n",
    "wst.columns = colnames"
   ]
  },
  {
   "cell_type": "markdown",
   "id": "c3bfc45d-8822-434f-bfa7-9b898a948d6d",
   "metadata": {},
   "source": [
    "## Stationsname Frankfurt/Main"
   ]
  },
  {
   "cell_type": "code",
   "execution_count": null,
   "id": "73d7e70d-f549-4765-a9ac-6019418e9338",
   "metadata": {},
   "outputs": [],
   "source": [
    "wst[wst[\"Stationsname\"].str.contains(\"Frankfurt/Main\")]"
   ]
  },
  {
   "cell_type": "markdown",
   "id": "14b63c0b-b986-4dbb-8a0d-55f4694fdadc",
   "metadata": {},
   "source": [
    "## Stationsname Offenbach"
   ]
  },
  {
   "cell_type": "code",
   "execution_count": null,
   "id": "99e7a77f-ad75-45c0-84ea-33150703fe78",
   "metadata": {},
   "outputs": [],
   "source": [
    "wst[wst[\"Stationsname\"].str.contains(\"Offenbach\")]"
   ]
  },
  {
   "cell_type": "markdown",
   "id": "ca80ddc4-3e0d-443b-809d-fb8930ef51ef",
   "metadata": {},
   "source": [
    "## Display number of weather stations by Bundesland"
   ]
  },
  {
   "cell_type": "code",
   "execution_count": null,
   "id": "93ace11d-aba6-4947-b25f-979a11dd0cdc",
   "metadata": {
    "tags": []
   },
   "outputs": [],
   "source": [
    "blc = wst.groupby(['Bundesland'])['Bundesland'].count()\n",
    "print(blc)"
   ]
  },
  {
   "cell_type": "markdown",
   "id": "f0507669",
   "metadata": {},
   "source": [
    "## Download zip file from URL\n",
    "[howto](https://pythonguides.com/download-zip-file-from-url-using-python/)"
   ]
  },
  {
   "cell_type": "code",
   "execution_count": null,
   "id": "9dac8db7-828d-4855-8d4d-0d20c4d4e67e",
   "metadata": {},
   "outputs": [],
   "source": [
    "from urllib.request import urlopen\n",
    "from io import BytesIO\n",
    "from zipfile import ZipFile\n",
    "from re import compile\n",
    "\n",
    "def collectRecords(zfile): \n",
    "    with BytesIO(zfile.read()) as b, ZipFile(b) as datafile: \n",
    "        r = compile(\"^produkt_klima_tag_.*\\.txt$\")\n",
    "        dfound = list(filter(r.match, datafile.namelist()))\n",
    "        number = len(dfound)\n",
    "        assert  number == 1, f\"WARN: exactly one element expected, got {number} instead\"\n",
    "        #print(dfound[0])\n",
    "        #print(type(datafile))\n",
    "        rf = datafile.open(dfound[0])\n",
    "        lines = rf.readlines()\n",
    "        rf.close()\n",
    "        header = True\n",
    "        for bline in lines:\n",
    "            line = bline.decode('unicode-escape').rstrip('\\r\\n').split(';')\n",
    "            del line[-1] # remove last column containing only eor\n",
    "            #print(line)\n",
    "            if header: # initialize list of lists\n",
    "                header = not(header)\n",
    "                record = [line]\n",
    "            else:\n",
    "                record.append(line)\n",
    "    return record"
   ]
  },
  {
   "cell_type": "code",
   "execution_count": null,
   "id": "44b455db-9e38-4382-b12b-a6d978bde03c",
   "metadata": {},
   "outputs": [],
   "source": [
    "from urllib.request import urlopen\n",
    "from io import BytesIO\n",
    "from zipfile import ZipFile\n",
    "from re import compile\n",
    "\n",
    "zip_url = url + recent_path \n",
    "twre = compile(r'tageswerte_KL_[0-9]{5}_akt.zip')\n",
    "\n",
    "with urlopen(zip_url) as f:\n",
    "    for bline in f.readlines():\n",
    "        zfound = twre.search(bline.decode('utf-8'))\n",
    "        #print(zfound)\n",
    "        if zfound:\n",
    "            zfilename = zfound.string[zfound.start():zfound.end()]\n",
    "            #print(zfilename)\n",
    "            with urlopen(zip_url + zfilename) as z:\n",
    "                record = collectRecords(z)    \n",
    "                df = pd.DataFrame(record[1:], columns=record[0])\n",
    "                #df.ilock[2:] = df.iloc[2:].map({ -999 : NaN})\n",
    "                print(df)\n",
    "                print(df.shape)    "
   ]
  },
  {
   "cell_type": "code",
   "execution_count": null,
   "id": "7e226c82-ebb7-42a1-9be2-4041c892ccaa",
   "metadata": {},
   "outputs": [],
   "source": [
    "cols = df.columns[2:]\n",
    "#print(cols)\n",
    "#cols = ['Jan', 'Feb', 'Mar']\n",
    "df = df.replace('-999', '-', regex=True)\n",
    "df[cols] = df[cols].apply(pd.to_numeric, errors='coerce', axis=1)\n",
    "df['MESS_DATUM'] = pd.to_datetime(df['MESS_DATUM'], format='%Y%m%d')\n",
    "\n",
    "#df['STATIONS_ID'] = df['STATIONS_ID'].apply(lambda x: x.zfill(5))\n",
    "#df['STATIONS_ID'] = df['STATIONS_ID'].apply(pd.to_int, errors='coerce', axis=1)\n",
    "#df['STATIONS_ID'].map(lambda x: f'{x:0>5}')\n",
    "print(len(df['STATIONS_ID'][0]))\n",
    "#df['STATIONS_ID'] = df['STATIONS_ID'].apply(lambda x: x.zfill(11))\n",
    "#print(len(df['STATIONS_ID'][0]))\n",
    "\n",
    "df.STATIONS_ID.str.slice(6,11).str.replace(' ','0')\n",
    "#print(df)"
   ]
  },
  {
   "cell_type": "code",
   "execution_count": null,
   "id": "c0c41469-0fce-4e22-aa7d-87f4f237546d",
   "metadata": {},
   "outputs": [],
   "source": []
  }
 ],
 "metadata": {
  "kernelspec": {
   "display_name": "Python 3 (ipykernel)",
   "language": "python",
   "name": "python3"
  },
  "language_info": {
   "codemirror_mode": {
    "name": "ipython",
    "version": 3
   },
   "file_extension": ".py",
   "mimetype": "text/x-python",
   "name": "python",
   "nbconvert_exporter": "python",
   "pygments_lexer": "ipython3",
   "version": "3.10.8"
  }
 },
 "nbformat": 4,
 "nbformat_minor": 5
}
